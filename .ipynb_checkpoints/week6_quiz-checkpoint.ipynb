{
 "cells": [
  {
   "cell_type": "code",
   "execution_count": 1,
   "metadata": {},
   "outputs": [
    {
     "data": {
      "text/html": [
       "<style>.container { width:100% !important; }</style>"
      ],
      "text/plain": [
       "<IPython.core.display.HTML object>"
      ]
     },
     "metadata": {},
     "output_type": "display_data"
    }
   ],
   "source": [
    "from IPython.core.display import display, HTML\n",
    "display(HTML(\"<style>.container { width:100% !important; }</style>\"))"
   ]
  },
  {
   "cell_type": "code",
   "execution_count": 1,
   "metadata": {
    "collapsed": true
   },
   "outputs": [],
   "source": [
    "import math\n",
    "import scipy.optimize\n",
    "import time"
   ]
  },
  {
   "cell_type": "code",
   "execution_count": 2,
   "metadata": {
    "collapsed": true
   },
   "outputs": [],
   "source": [
    "class Lattice:\n",
    "    def printLattice(self):\n",
    "        for t, level in enumerate(self.lattice):\n",
    "            print 'level {0}'.format(t)\n",
    "            level = [ round(elem, 3) for elem in level ]\n",
    "            print ', '.join(map(str, level))"
   ]
  },
  {
   "cell_type": "code",
   "execution_count": 3,
   "metadata": {
    "collapsed": true
   },
   "outputs": [],
   "source": [
    "class CalibratedRateLattice(Lattice):\n",
    "    def __init__(self, dP, vP, q):\n",
    "        self.lattice = []\n",
    "        self.lattice.append([dP[0]])\n",
    "        for i in range(1,len(dP)):\n",
    "            level = []\n",
    "            for j in range(i+1):\n",
    "                rate = dP[i]*math.exp(vP*j)\n",
    "                level.append(rate)\n",
    "            self.lattice.append(level)"
   ]
  },
  {
   "cell_type": "code",
   "execution_count": 4,
   "metadata": {
    "collapsed": true
   },
   "outputs": [],
   "source": [
    "class RateLattice(Lattice):    \n",
    "    def __init__(self, n, S0, u, d):\n",
    "        self.lattice = []\n",
    "        for i in range(n+1):\n",
    "            level = []\n",
    "            for j in range(i+1):\n",
    "                rate = S0 * u**j * d**(i - j)\n",
    "                level.append(rate)\n",
    "            self.lattice.append(level)"
   ]
  },
  {
   "cell_type": "code",
   "execution_count": 5,
   "metadata": {
    "collapsed": true
   },
   "outputs": [],
   "source": [
    "class HazardLattice(Lattice):    \n",
    "    def __init__(self, n, a, b):\n",
    "        self.lattice = []\n",
    "        for i in range(n+1):\n",
    "            level = []\n",
    "            for j in range(i+1):\n",
    "                rate = a*b**(j-.5*i)\n",
    "                level.append(rate)\n",
    "            self.lattice.append(level)"
   ]
  },
  {
   "cell_type": "code",
   "execution_count": 6,
   "metadata": {
    "collapsed": true
   },
   "outputs": [],
   "source": [
    "class ZCBLattice(Lattice):\n",
    "    def __init__(self, F, q, n, rateLattice, hazardLattice, recoveryRate):\n",
    "        self.lattice = []\n",
    "        clippedRate = rateLattice[:n+1]\n",
    "        clippedHazard = hazardLattice[:n+1]\n",
    "        rightLevel = []\n",
    "        for i, level in enumerate(reversed(clippedRate)):\n",
    "            newLevel = []\n",
    "            if i == 0:\n",
    "                for j in range(len(level)):\n",
    "#                     hazard = clippedHazard[n-i][j]\n",
    "#                     nondefaultValue = (1.-hazard)*F\n",
    "#                     defaultValue = hazard*recoveryRate*F\n",
    "                    newLevel.append(F)\n",
    "            else:\n",
    "                for j in range(len(level)):\n",
    "                    discount = 1.+clippedRate[n-i][j]/100.\n",
    "                    hazard = clippedHazard[n-i][j]\n",
    "                    nondefaultValue = (q*rightLevel[j+1]+(1.-q)*rightLevel[j])*(1.-hazard)\n",
    "                    defaultValue = hazard*recoveryRate*F\n",
    "                    price = (nondefaultValue+defaultValue)/discount\n",
    "                    newLevel.append(price)\n",
    "            rightLevel = newLevel\n",
    "            self.lattice.insert(0, newLevel)"
   ]
  },
  {
   "cell_type": "code",
   "execution_count": 7,
   "metadata": {
    "collapsed": true
   },
   "outputs": [],
   "source": [
    "class EPLattice(Lattice):\n",
    "    def __init__(self, F, rateLattice):\n",
    "        self.lattice = []\n",
    "        for i in range(len(rateLattice)+1):\n",
    "            newLevel = []\n",
    "            if i == 0:\n",
    "                newLevel.append(F)\n",
    "            else:\n",
    "                level = rateLattice[i-1]\n",
    "                for j in range(len(level)+1):\n",
    "                    if j == 0:\n",
    "                        discount = 1.+level[j]/100.\n",
    "                        price = .5*leftLevel[j]/discount\n",
    "                    elif j == len(level):\n",
    "                        discount = 1.+level[j-1]/100.\n",
    "                        price = .5*leftLevel[j-1]/discount\n",
    "                    else:\n",
    "                        discount = 1.+level[j]/100.\n",
    "                        price = .5*leftLevel[j]/discount\n",
    "                        discount = 1.+level[j-1]/100.\n",
    "                        price += .5*leftLevel[j-1]/discount\n",
    "                    newLevel.append(price)\n",
    "            leftLevel = newLevel\n",
    "            self.lattice.append(newLevel)\n",
    "    \n",
    "    def getZCBPrices(self):\n",
    "        return [sum(arr) for arr in self.lattice]\n",
    "    \n",
    "    def getSpotRates(self):\n",
    "        zcbPrices= self.getZCBPrices()\n",
    "        return [100.*((1./price)**(1./i)-1) for i, price in enumerate(zcbPrices) if i>0]"
   ]
  },
  {
   "cell_type": "code",
   "execution_count": 8,
   "metadata": {
    "collapsed": true
   },
   "outputs": [],
   "source": [
    "class SwapLattice(Lattice):\n",
    "    def __init__(self, q, n, rf, firstPaymentTime, payFixed, rateLattice):\n",
    "        clippedRate = rateLattice[:n+1]\n",
    "        self.lattice = []\n",
    "        rightLevel = []\n",
    "        print \"Calculating swaps\"\n",
    "        for i, level in enumerate(reversed(clippedRate)):\n",
    "            newLevel = []\n",
    "            if i == 0:\n",
    "                for j in range(len(level)):\n",
    "                    spotRate = clippedRate[n-i-1][j]/100.\n",
    "                    payment = spotRate-rf if payFixed else rf-spotRate\n",
    "                    newPrice = payment/(1+spotRate)\n",
    "                    newLevel.append(newPrice)\n",
    "            else:\n",
    "                for j in range(len(level)):\n",
    "                    spotRate = clippedRate[n-i-1][j]/100.\n",
    "                    newPrice = (q*rightLevel[j+1]+(1-q)*rightLevel[j])/(1.+spotRate)\n",
    "                    if n-i >= firstPaymentTime:\n",
    "                        payment = spotRate-rf if payFixed else rf-spotRate\n",
    "                        newPrice += payment/(1.+spotRate)\n",
    "                    newLevel.append(newPrice)\n",
    "            rightLevel = newLevel\n",
    "            self.lattice.insert(0, newLevel)"
   ]
  },
  {
   "cell_type": "code",
   "execution_count": 9,
   "metadata": {
    "collapsed": true
   },
   "outputs": [],
   "source": [
    "class OptionLattice(Lattice):\n",
    "    def __init__(self, n, q, K, isCall, isAmerican, rateLattice, baseLattice):\n",
    "        multiplier = 1 if isCall else -1\n",
    "        clippedBase = baseLattice[:n+1]\n",
    "        clippedRate = rateLattice[:n+1]\n",
    "        self.lattice = []\n",
    "        rightLevel = []\n",
    "        print \"Calculating options\"\n",
    "        for i, level in enumerate(reversed(clippedBase)):\n",
    "            newLevel = []\n",
    "            if i == 0:\n",
    "                for j in range(len(level)):\n",
    "                    newLevel.append(max(multiplier * (level[j]-K), 0))\n",
    "            else:\n",
    "                for j in range(len(level)):\n",
    "                    earlyExercise = max(multiplier * (level[j]-K), 0)\n",
    "                    discount = 1.+clippedRate[n-i][j]/100.\n",
    "                    hold = (q*rightLevel[j+1] + (1-q)*rightLevel[j])/discount\n",
    "                    if earlyExercise > hold and isAmerican:\n",
    "                        print \"At time {0}, it's better to early exercise {1} than hold {2}\".format(n-i, earlyExercise, hold)\n",
    "                    newPrice = max(hold, earlyExercise) if isAmerican else hold\n",
    "                    newLevel.append(newPrice)\n",
    "            rightLevel = newLevel\n",
    "            self.lattice.insert(0, newLevel)"
   ]
  },
  {
   "cell_type": "code",
   "execution_count": 10,
   "metadata": {
    "collapsed": true
   },
   "outputs": [],
   "source": [
    "def G(x):\n",
    "    rL = CalibratedRateLattice(x, volatilityParam, upMoveChance)\n",
    "    epL = EPLattice(faceValue, rL.lattice[:])\n",
    "    return [a - b for a, b in zip(epL.getSpotRates(), marketSpotRates)]"
   ]
  },
  {
   "cell_type": "code",
   "execution_count": 11,
   "metadata": {},
   "outputs": [
    {
     "name": "stdout",
     "output_type": "stream",
     "text": [
      "spot rate squared error\n",
      "389.769846071\n",
      "\n",
      "357.60 ms elapsed for 200 iterations\n",
      "\n",
      "spot rate squared error\n",
      "2.37436302008e-19\n"
     ]
    }
   ],
   "source": [
    "driftParams = [5.]*14\n",
    "volatilityParam = .005\n",
    "upMoveChance = .5\n",
    "\n",
    "rL = CalibratedRateLattice(driftParams, volatilityParam, upMoveChance)\n",
    "\n",
    "faceValue = 1.\n",
    "\n",
    "epL = EPLattice(faceValue, rL.lattice[:])\n",
    "\n",
    "modelZCBPrices = epL.getZCBPrices()\n",
    "\n",
    "modelSpotRates = epL.getSpotRates()\n",
    "\n",
    "marketSpotRates = [7.3,7.62,8.1,8.45,9.2,9.64,10.12,10.45,10.75,11.22,11.55,11.92,12.2,12.32]\n",
    "\n",
    "print 'spot rate squared error'\n",
    "print sum(i*i for i in G(driftParams))\n",
    "\n",
    "start_time = time.time()\n",
    "maxIterations = 200\n",
    "driftParams = scipy.optimize.broyden1(G, driftParams, iter=maxIterations)\n",
    "elapsed_time = time.time() - start_time\n",
    "\n",
    "print\n",
    "print \"%.2f ms elapsed for %d iterations\" % (elapsed_time*1000, maxIterations)\n",
    "print\n",
    "print 'spot rate squared error'\n",
    "print sum(i*i for i in G(driftParams))"
   ]
  },
  {
   "cell_type": "code",
   "execution_count": 12,
   "metadata": {
    "collapsed": true
   },
   "outputs": [],
   "source": [
    "# Questions 1 and 2 should be answered by building and calibrating a 10-period Black-Derman-Toy model \n",
    "# for the short-rate, ri,j. You may assume that the term-structure of interest rates observed \n",
    "# in the market place is:\n",
    "\n",
    "# Spot Rates 3.0% 3.1% 3.2% 3.3% 3.4% 3.5% 3.55% 3.6% 3.65% 3.7%\n",
    "\n",
    "# As in the video modules, these interest rates assume per-period compounding so that, \n",
    "# for example, the market-price of a zero-coupon bond that matures in period 6\n",
    "# is Z60=100/(1+.035)6=81.35 assuming a face value of 100.\n",
    "\n",
    "# _____________________________________________________________________\n",
    "\n",
    "# Questions 3-5 refer to the material on defaultable bonds and credit-default swaps (CDS)."
   ]
  },
  {
   "cell_type": "code",
   "execution_count": 13,
   "metadata": {},
   "outputs": [
    {
     "name": "stdout",
     "output_type": "stream",
     "text": [
      "spot rate squared error\n",
      "36.14539126\n"
     ]
    },
    {
     "name": "stderr",
     "output_type": "stream",
     "text": [
      "/usr/local/lib/python2.7/site-packages/ipykernel_launcher.py:31: RuntimeWarning: invalid value encountered in double_scalars\n",
      "/usr/local/lib/python2.7/site-packages/scipy/optimize/nonlin.py:997: RuntimeWarning: invalid value encountered in true_divide\n",
      "  d = v / vdot(df, v)\n",
      "/usr/local/lib/python2.7/site-packages/scipy/optimize/nonlin.py:997: RuntimeWarning: divide by zero encountered in true_divide\n",
      "  d = v / vdot(df, v)\n",
      "/usr/local/lib/python2.7/site-packages/scipy/optimize/nonlin.py:773: RuntimeWarning: invalid value encountered in multiply\n",
      "  self.collapsed += c[:,None] * d[None,:].conj()\n"
     ]
    },
    {
     "name": "stdout",
     "output_type": "stream",
     "text": [
      "\n",
      "260.64 ms elapsed over 200 iterations\n",
      "\n",
      "spot rate squared error\n",
      "7.34493163836e-24\n",
      "\n",
      "rate lattice\n",
      "\n",
      "Calculating swaps\n",
      "swap lattice\n",
      "\n",
      "Calculating options\n",
      "option lattice on swap\n",
      "\n",
      "price w/ notional of $1M\n",
      "4102.11763759\n"
     ]
    }
   ],
   "source": [
    "# Q1\n",
    "# Assume b=0.05 is a constant for all i in the BDT model \n",
    "# Calibrate the ai parameters so that the model term-structure matches the market term-structure\n",
    "\n",
    "# Once your model has been calibrated, compute the price of a payer swaption \n",
    "# with notional $1M that expires at time t=3 with an option strike of 0. \n",
    "# You may assume the underlying swap has a fixed rate of 3.9% \n",
    "# and that if the option is exercised then cash-flows take place at times t=4,…,10.\n",
    "# (The cash-flow at time t=i is based on the short-rate that prevailed in the previous period,\n",
    "#  i.e. the payments of the underlying swap are made in arrears.)\n",
    "# \n",
    "# rounded to the nearest integer\n",
    "\n",
    "numPeriods = 10\n",
    "marketSpotRates = [3.0,3.1,3.2,3.3,3.4,3.5,3.55,3.6,3.65,3.7]\n",
    "driftParams = [5.]*len(marketSpotRates)\n",
    "volatilityParam = .05\n",
    "upMoveChance = .5\n",
    "faceValue = 1.\n",
    "maxIterations = 200\n",
    "\n",
    "print 'spot rate squared error'\n",
    "print sum(i*i for i in G(driftParams))\n",
    "\n",
    "start_time = time.time()\n",
    "driftParams = scipy.optimize.broyden1(G, driftParams, iter=maxIterations)\n",
    "elapsed_time = time.time() - start_time\n",
    "\n",
    "print\n",
    "print \"%.2f ms elapsed over %d iterations\" % (elapsed_time*1000, maxIterations)\n",
    "print\n",
    "print 'spot rate squared error'\n",
    "print sum(i*i for i in G(driftParams))\n",
    "\n",
    "print\n",
    "print 'rate lattice'\n",
    "rL = CalibratedRateLattice(driftParams, volatilityParam, upMoveChance)\n",
    "# rL.printLattice()\n",
    "print\n",
    "\n",
    "numPeriods = 10\n",
    "fixedRate = .039\n",
    "firstPaymentTime = 4\n",
    "paysFixed = True\n",
    "\n",
    "sL = SwapLattice(upMoveChance, numPeriods, fixedRate, firstPaymentTime, paysFixed, rL.lattice[:])\n",
    "print 'swap lattice'\n",
    "print\n",
    "# sL.printLattice()\n",
    "# print\n",
    "\n",
    "numPeriods = 3\n",
    "strikePrice = 0.\n",
    "isCall = True\n",
    "isAmerican = False\n",
    "\n",
    "oL = OptionLattice(numPeriods, upMoveChance, strikePrice, isCall, isAmerican, rL.lattice[:], sL.lattice[:])\n",
    "print 'option lattice on swap'\n",
    "print\n",
    "# oL.printLattice()\n",
    "# print\n",
    "print 'price w/ notional of $1M'\n",
    "print oL.lattice[0][0]*1000000"
   ]
  },
  {
   "cell_type": "code",
   "execution_count": 14,
   "metadata": {},
   "outputs": [
    {
     "name": "stdout",
     "output_type": "stream",
     "text": [
      "spot rate squared error\n",
      "50.7684224445\n",
      "\n",
      "226.96 ms elapsed over 200 iterations\n",
      "\n",
      "spot rate squared error\n",
      "8.2491184859e-27\n",
      "\n",
      "rate lattice\n",
      "\n",
      "Calculating swaps\n",
      "swap lattice\n",
      "\n",
      "Calculating options\n",
      "option lattice on swap\n",
      "\n",
      "price w/ notional of $1M\n",
      "8096.5697157\n"
     ]
    }
   ],
   "source": [
    "# Q2\n",
    "# Repeat the previous question but now assume a value of b=0.1\n",
    "# \n",
    "# rounded to the nearest integer\n",
    "\n",
    "numPeriods = 10\n",
    "volatilityParam = .1\n",
    "driftParams = [5.]*len(marketSpotRates)\n",
    "\n",
    "print 'spot rate squared error'\n",
    "print sum(i*i for i in G(driftParams))\n",
    "\n",
    "start_time = time.time()\n",
    "driftParams = scipy.optimize.broyden1(G, driftParams, iter=maxIterations)\n",
    "elapsed_time = time.time() - start_time\n",
    "\n",
    "print\n",
    "print \"%.2f ms elapsed over %d iterations\" % (elapsed_time*1000, maxIterations)\n",
    "print\n",
    "print 'spot rate squared error'\n",
    "print sum(i*i for i in G(driftParams))\n",
    "\n",
    "print\n",
    "print 'rate lattice'\n",
    "rL = CalibratedRateLattice(driftParams, volatilityParam, upMoveChance)\n",
    "# rL.printLattice()\n",
    "print\n",
    "\n",
    "numPeriods = 10\n",
    "fixedRate = .039\n",
    "firstPaymentTime = 4\n",
    "paysFixed = True\n",
    "\n",
    "sL = SwapLattice(upMoveChance, numPeriods, fixedRate, firstPaymentTime, paysFixed, rL.lattice[:])\n",
    "print 'swap lattice'\n",
    "print\n",
    "# sL.printLattice()\n",
    "# print\n",
    "\n",
    "numPeriods = 3\n",
    "strikePrice = 0.\n",
    "isCall = True\n",
    "isAmerican = False\n",
    "\n",
    "oL = OptionLattice(numPeriods, upMoveChance, strikePrice, isCall, isAmerican, rL.lattice[:], sL.lattice[:])\n",
    "print 'option lattice on swap'\n",
    "print\n",
    "# oL.printLattice()\n",
    "# print\n",
    "print 'price w/ notional of $1M'\n",
    "print oL.lattice[0][0]*1000000"
   ]
  },
  {
   "cell_type": "code",
   "execution_count": 18,
   "metadata": {},
   "outputs": [
    {
     "name": "stdout",
     "output_type": "stream",
     "text": [
      "rate lattice\n",
      "\n",
      "hazard lattice\n",
      "\n",
      "zcb lattice\n",
      "\n",
      "level 0\n",
      "57.217\n",
      "level 1\n",
      "63.034, 57.931\n",
      "level 2\n",
      "68.595, 64.067, 59.003\n",
      "level 3\n",
      "73.838, 69.936, 65.496, 60.517\n",
      "level 4\n",
      "78.72, 75.464, 71.705, 67.416, 62.587\n",
      "level 5\n",
      "83.217, 80.602, 77.547, 74.007, 69.95, 65.358\n",
      "level 6\n",
      "87.319, 85.322, 82.963, 80.196, 76.975, 73.262, 69.029\n",
      "level 7\n",
      "91.032, 89.612, 87.921, 85.916, 83.552, 80.783, 77.567, 73.869\n",
      "level 8\n",
      "94.368, 93.478, 92.409, 91.13, 89.606, 87.797, 85.662, 83.16, 80.251\n",
      "level 9\n",
      "97.349, 96.932, 96.429, 95.823, 95.093, 94.218, 93.172, 91.925, 90.447, 88.705\n",
      "level 10\n",
      "100.0, 100.0, 100.0, 100.0, 100.0, 100.0, 100.0, 100.0, 100.0, 100.0, 100.0\n"
     ]
    }
   ],
   "source": [
    "# Q3\n",
    "\n",
    "# Construct a n=10-period binomial model for the short-rate, ri,j. \n",
    "# The lattice parameters are: r0,0=5%, u=1.1, d=0.9 and q=1−q=1/2.\n",
    "\n",
    "# Assume that the 1-step hazard rate in node (i,j) is given by hij=a*b^(j−i/2) where a=0.01 and b=1.01.\n",
    "# Compute the price of a zero-coupon bond with face value F=100 and recovery R=20%.\n",
    "\n",
    "# rounded to two decimal places\n",
    "\n",
    "numPeriods = 10\n",
    "startRate = 5\n",
    "upMoveReturn = 1.1\n",
    "downMoveReturn = .9\n",
    "upMoveChance = .5\n",
    "\n",
    "rL = RateLattice(numPeriods, startRate, upMoveReturn, downMoveReturn)\n",
    "print 'rate lattice'\n",
    "print\n",
    "# rL.printLattice()\n",
    "# print\n",
    "\n",
    "driftParam  = .01\n",
    "volatilityParam = 1.01\n",
    "\n",
    "hL = HazardLattice(numPeriods, driftParam, volatilityParam)\n",
    "print 'hazard lattice'\n",
    "print\n",
    "# hL.printLattice()\n",
    "# print\n",
    "\n",
    "faceValue = 100\n",
    "recoveryRate = .2\n",
    "zL = ZCBLattice(faceValue, upMoveChance, numPeriods, rL.lattice[:], hL.lattice[:], recoveryRate)\n",
    "print 'zcb lattice'\n",
    "print\n",
    "zL.printLattice()"
   ]
  },
  {
   "cell_type": "code",
   "execution_count": 16,
   "metadata": {
    "collapsed": true
   },
   "outputs": [],
   "source": [
    "# Q4\n",
    "\n",
    "# The true price of 5 different defaultable coupon paying bonds with non-zero recovery are specified in worksheet \n",
    "# 𝙲𝚊𝚕𝚒𝚋𝚛𝚊𝚝𝚒𝚘𝚗 in the workbook 𝙰𝚜𝚜𝚒𝚐𝚗𝚖𝚎𝚗𝚝𝟻_𝚌𝚍𝚜.𝚡𝚕𝚜𝚡. The interest rate is r=5% per annum. \n",
    "# Calibrate the six month hazard rates 𝙰𝟼 to 𝙰𝟷𝟼 to by minimizing the 𝚂𝚞𝚖𝙴𝚛𝚛𝚘𝚛 \n",
    "# ensuring that the term structure of hazard rates are non-decreasing. You can model the non-decreasing\n",
    "# hazard rates by adding constraints of the form 𝙰𝟼≤𝙰𝟽,…,𝙰𝟷𝟻≤𝙰𝟷𝟼. \n",
    "# Report the hazard rate at time 0 as a percentage.\n",
    "\n",
    "# percent rounded to two decimal places\n",
    "\n",
    "# 0.01844022368476 -> 1.84"
   ]
  },
  {
   "cell_type": "code",
   "execution_count": 17,
   "metadata": {
    "collapsed": true
   },
   "outputs": [],
   "source": [
    "# Q5\n",
    "\n",
    "# Modify the data on the 𝙲𝙳𝚂𝚙𝚛𝚒𝚌𝚒𝚗𝚐 worksheet in the workbook 𝚋𝚘𝚗𝚍𝚜_𝚊𝚗𝚍_𝚌𝚍𝚜.𝚡𝚕𝚜𝚡 \n",
    "# to compute a par spread in basis points for a 5yr CDS with notional principal N=10 million \n",
    "# assuming that the expected recovery rate R=25%, the 3-month hazard rate is a flat 1%,\n",
    "# and the interest rate is 5% per annum.\n",
    "\n",
    "# basis points rounded to two decimal places (1 bps = 0.01%)\n",
    "\n",
    "# 301.51"
   ]
  },
  {
   "cell_type": "code",
   "execution_count": null,
   "metadata": {
    "collapsed": true
   },
   "outputs": [],
   "source": []
  }
 ],
 "metadata": {
  "kernelspec": {
   "display_name": "Python 2",
   "language": "python",
   "name": "python2"
  },
  "language_info": {
   "codemirror_mode": {
    "name": "ipython",
    "version": 2
   },
   "file_extension": ".py",
   "mimetype": "text/x-python",
   "name": "python",
   "nbconvert_exporter": "python",
   "pygments_lexer": "ipython2",
   "version": "2.7.11"
  }
 },
 "nbformat": 4,
 "nbformat_minor": 2
}

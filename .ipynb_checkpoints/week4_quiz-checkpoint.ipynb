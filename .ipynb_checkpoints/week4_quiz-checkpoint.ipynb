{
 "cells": [
  {
   "cell_type": "code",
   "execution_count": 1,
   "metadata": {},
   "outputs": [
    {
     "data": {
      "text/html": [
       "<style>.container { width:100% !important; }</style>"
      ],
      "text/plain": [
       "<IPython.core.display.HTML object>"
      ]
     },
     "metadata": {},
     "output_type": "display_data"
    }
   ],
   "source": [
    "from IPython.core.display import display, HTML\n",
    "display(HTML(\"<style>.container { width:100% !important; }</style>\"))"
   ]
  },
  {
   "cell_type": "code",
   "execution_count": 1,
   "metadata": {
    "collapsed": true
   },
   "outputs": [],
   "source": [
    "import math"
   ]
  },
  {
   "cell_type": "code",
   "execution_count": 2,
   "metadata": {
    "collapsed": true
   },
   "outputs": [],
   "source": [
    "class Lattice:\n",
    "    def printLattice(self):\n",
    "        for t, level in enumerate(self.lattice):\n",
    "            print 'level {0}'.format(t)\n",
    "            level = [ round(elem, 3) for elem in level ]\n",
    "            print ', '.join(map(str, level)) "
   ]
  },
  {
   "cell_type": "code",
   "execution_count": 3,
   "metadata": {
    "collapsed": true
   },
   "outputs": [],
   "source": [
    "class PriceLattice(Lattice):\n",
    "    def __init__(self, n, S0, u, d):\n",
    "        self.lattice = []\n",
    "        for i in range(n+1):\n",
    "            level = []\n",
    "            for j in range(i+1):\n",
    "                price = S0 * u**j * d**(i - j)\n",
    "                level.append(price)\n",
    "            self.lattice.append(level)"
   ]
  },
  {
   "cell_type": "code",
   "execution_count": 4,
   "metadata": {
    "collapsed": true
   },
   "outputs": [],
   "source": [
    "class OptionLattice(Lattice):\n",
    "    def __init__(self, n, u, d, K, R, isCall, isAmerican, c, baseLattice):\n",
    "        q = (R-d-c)/(u-d)\n",
    "        multiplier = 1 if isCall else -1\n",
    "        self.lattice = []\n",
    "        clippedBase = baseLattice[:n+1]\n",
    "        rightLevel = []\n",
    "        print \"Calculating options on prices\"\n",
    "        for i, level in enumerate(reversed(clippedBase)):\n",
    "            newLevel = []\n",
    "            if i == 0:\n",
    "                for j in range(len(level)):\n",
    "                    newLevel.append(max(multiplier * (level[j]-K), 0))\n",
    "            else:\n",
    "                for j in range(len(level)):\n",
    "                    earlyExercise = max(multiplier * (level[j]-K), 0)\n",
    "                    hold = (q*rightLevel[j+1] + (1-q)*rightLevel[j])/R\n",
    "                    if earlyExercise > hold and isAmerican:\n",
    "                        print \"At time {0}, it's better to early exercise {1} than hold {2}\".format(len(clippedBase)-i-1, earlyExercise, hold)\n",
    "                    newPrice = max(hold, earlyExercise) if isAmerican else hold\n",
    "                    newLevel.append(newPrice)\n",
    "            rightLevel = newLevel\n",
    "            self.lattice.insert(0, newLevel)"
   ]
  },
  {
   "cell_type": "code",
   "execution_count": 5,
   "metadata": {
    "collapsed": true
   },
   "outputs": [],
   "source": [
    "class FutureLattice(PriceLattice):\n",
    "    def __init__(self, n, u, d, c, R, baseLattice):\n",
    "        self.lattice = baseLattice[:n+1]\n",
    "        q = (R-d-c)/(u-d)\n",
    "        for i, level in enumerate(reversed(self.lattice)):\n",
    "            if i != 0:\n",
    "                rightLevel = self.lattice[len(self.lattice)-i]\n",
    "                for j in range(len(level)):\n",
    "                    level[j] = q*rightLevel[j+1]+(1-q)*rightLevel[j]"
   ]
  },
  {
   "cell_type": "code",
   "execution_count": 6,
   "metadata": {},
   "outputs": [
    {
     "name": "stdout",
     "output_type": "stream",
     "text": [
      "Calculating options on prices\n",
      "2.6\n"
     ]
    }
   ],
   "source": [
    "# Problem 1\n",
    "numPeriods = 15\n",
    "years = 0.25\n",
    "startPrice = 100\n",
    "strikePrice = 110\n",
    "continuousInterestRate = .02\n",
    "volatility = .3\n",
    "isCall = True\n",
    "isAmerican = True\n",
    "\n",
    "riskFreeReturn = math.exp(continuousInterestRate*years/numPeriods)\n",
    "dividendYield = .01*years/numPeriods\n",
    "upMoveReturn = math.exp(volatility*math.sqrt(years/numPeriods))\n",
    "downMoveReturn = 1./upMoveReturn\n",
    "\n",
    "pL = PriceLattice(numPeriods, startPrice, upMoveReturn, downMoveReturn)\n",
    "oL = OptionLattice(numPeriods, upMoveReturn, downMoveReturn, strikePrice, riskFreeReturn, isCall, isAmerican, dividendYield, pL.lattice[:])\n",
    "print round(oL.lattice[0][0], 2)"
   ]
  },
  {
   "cell_type": "code",
   "execution_count": 7,
   "metadata": {},
   "outputs": [
    {
     "name": "stdout",
     "output_type": "stream",
     "text": [
      "Calculating options on prices\n",
      "At time 14, it's better to early exercise 51.8542658116 than hold 51.8272929813\n",
      "At time 14, it's better to early exercise 47.1712868691 than hold 47.1450942752\n",
      "At time 14, it's better to early exercise 42.111147124 than hold 42.0857976056\n",
      "At time 14, it's better to early exercise 36.6434705543 than hold 36.6190320116\n",
      "At time 14, it's better to early exercise 30.7354346944 than hold 30.7119804962\n",
      "At time 14, it's better to early exercise 24.3515736013 than hold 24.3291830254\n",
      "At time 14, it's better to early exercise 17.4535649532 than hold 17.4323236622\n",
      "At time 14, it's better to early exercise 10.0 than hold 9.9800005558\n",
      "At time 13, it's better to early exercise 49.558113422 than hold 49.5315231562\n",
      "At time 13, it's better to early exercise 44.6902054655 than hold 44.6644262473\n",
      "At time 13, it's better to early exercise 39.4302427733 than hold 39.4053399234\n",
      "At time 13, it's better to early exercise 33.7466497861 than hold 33.722693886\n",
      "At time 13, it's better to early exercise 27.6053078918 than hold 27.5823752076\n",
      "At time 13, it's better to early exercise 20.9693506114 than hold 20.9475235514\n",
      "At time 13, it's better to early exercise 13.7989422892 than hold 13.778309899\n",
      "At time 12, it's better to early exercise 47.1712868691 than hold 47.1450942752\n",
      "At time 12, it's better to early exercise 42.111147124 than hold 42.0857976056\n",
      "At time 12, it's better to early exercise 36.6434705543 than hold 36.6190320116\n",
      "At time 12, it's better to early exercise 30.7354346944 than hold 30.7119804962\n",
      "At time 12, it's better to early exercise 24.3515736013 than hold 24.3291830254\n",
      "At time 12, it's better to early exercise 17.4535649532 than hold 17.4323236622\n",
      "At time 11, it's better to early exercise 44.6902054655 than hold 44.6644262473\n",
      "At time 11, it's better to early exercise 39.4302427733 than hold 39.4053399234\n",
      "At time 11, it's better to early exercise 33.7466497861 than hold 33.722693886\n",
      "At time 11, it's better to early exercise 27.6053078918 than hold 27.5823752076\n",
      "At time 11, it's better to early exercise 20.9693506114 than hold 20.9475235514\n",
      "At time 10, it's better to early exercise 42.111147124 than hold 42.0857976056\n",
      "At time 10, it's better to early exercise 36.6434705543 than hold 36.6190320116\n",
      "At time 10, it's better to early exercise 30.7354346944 than hold 30.7119804962\n",
      "At time 10, it's better to early exercise 24.3515736013 than hold 24.3291830254\n",
      "At time 9, it's better to early exercise 39.4302427733 than hold 39.4053399234\n",
      "At time 9, it's better to early exercise 33.7466497861 than hold 33.722693886\n",
      "At time 9, it's better to early exercise 27.6053078918 than hold 27.5823752076\n",
      "At time 9, it's better to early exercise 20.9693506114 than hold 20.9610455787\n",
      "At time 8, it's better to early exercise 36.6434705543 than hold 36.6190320116\n",
      "At time 8, it's better to early exercise 30.7354346944 than hold 30.7119804962\n",
      "At time 8, it's better to early exercise 24.3515736013 than hold 24.3291830254\n",
      "At time 7, it's better to early exercise 33.7466497861 than hold 33.722693886\n",
      "At time 7, it's better to early exercise 27.6053078918 than hold 27.5823752076\n",
      "At time 6, it's better to early exercise 30.7354346944 than hold 30.7119804962\n",
      "At time 6, it's better to early exercise 24.3515736013 than hold 24.3480435651\n",
      "At time 5, it's better to early exercise 27.6053078918 than hold 27.5823752076\n",
      "12.36\n"
     ]
    }
   ],
   "source": [
    "# Problem 2\n",
    "isCall = False\n",
    "oL = OptionLattice(numPeriods, upMoveReturn, downMoveReturn, strikePrice, riskFreeReturn, isCall, isAmerican, dividendYield, pL.lattice[:])\n",
    "print round(oL.lattice[0][0], 2)"
   ]
  },
  {
   "cell_type": "code",
   "execution_count": 19,
   "metadata": {
    "collapsed": true
   },
   "outputs": [],
   "source": [
    "# Problem 3\n",
    "# Answer: Yes"
   ]
  },
  {
   "cell_type": "code",
   "execution_count": 20,
   "metadata": {
    "collapsed": true
   },
   "outputs": [],
   "source": [
    "# Problem 4\n",
    "# Asnwer: 5"
   ]
  },
  {
   "cell_type": "code",
   "execution_count": 21,
   "metadata": {
    "collapsed": true
   },
   "outputs": [],
   "source": [
    "# Problem 5\n",
    "# Answer: No, put-call parity only applies for European options"
   ]
  },
  {
   "cell_type": "code",
   "execution_count": 8,
   "metadata": {},
   "outputs": [
    {
     "name": "stdout",
     "output_type": "stream",
     "text": [
      "Calculating options on prices\n",
      "At time 9, it's better to early exercise 11.4884994161 than hold 11.4846705545\n",
      "At time 9, it's better to early exercise 21.2730191657 than hold 21.265929341\n",
      "At time 9, it's better to early exercise 31.8455709281 than hold 31.8349575068\n",
      "At time 8, it's better to early exercise 16.3070876151 than hold 16.3016528251\n",
      "At time 8, it's better to early exercise 26.4796899538 than hold 26.4708648614\n",
      "At time 7, it's better to early exercise 21.3167950752 than hold 21.3096906609\n",
      "1.66\n"
     ]
    }
   ],
   "source": [
    "# Problem 6\n",
    "numPeriods = 15\n",
    "years = 0.25\n",
    "startPrice = 100\n",
    "strikePrice = 110\n",
    "continuousInterestRate = .02\n",
    "volatility = .3\n",
    "isCall = True\n",
    "isAmerican = True\n",
    "\n",
    "riskFreeReturn = math.exp(continuousInterestRate*years/numPeriods)\n",
    "dividendYield = .01*years/numPeriods\n",
    "upMoveReturn = math.exp(volatility*math.sqrt(years/numPeriods))\n",
    "downMoveReturn = 1./upMoveReturn\n",
    "\n",
    "pL = PriceLattice(numPeriods, startPrice, upMoveReturn, downMoveReturn)\n",
    "fL = FutureLattice(numPeriods, upMoveReturn, downMoveReturn, dividendYield, riskFreeReturn, pL.lattice)\n",
    "\n",
    "numPeriods = 10\n",
    "oL = OptionLattice(numPeriods, upMoveReturn, downMoveReturn, strikePrice, riskFreeReturn, isCall, isAmerican, dividendYield, fL.lattice[:])\n",
    "\n",
    "print round(oL.lattice[0][0], 2)"
   ]
  },
  {
   "cell_type": "code",
   "execution_count": 25,
   "metadata": {
    "collapsed": true
   },
   "outputs": [],
   "source": [
    "# Problem 7\n",
    "# Answer: 7"
   ]
  },
  {
   "cell_type": "code",
   "execution_count": 9,
   "metadata": {},
   "outputs": [
    {
     "name": "stdout",
     "output_type": "stream",
     "text": [
      "Calculating options on prices\n",
      "Calculating options on prices\n",
      "10.81\n"
     ]
    }
   ],
   "source": [
    "# Problem 8\n",
    "numPeriodsExpiration = 15\n",
    "years = 0.25\n",
    "\n",
    "continuousInterestRate = .02\n",
    "volatility = .3\n",
    "isAmerican = False\n",
    "\n",
    "isCall = True\n",
    "startPrice = 100\n",
    "strikePrice = 100\n",
    "riskFreeReturn = math.exp(continuousInterestRate*years/numPeriodsExpiration)\n",
    "dividendYield = .01*years/numPeriodsExpiration\n",
    "upMoveReturn = math.exp(volatility*math.sqrt(years/numPeriodsExpiration))\n",
    "downMoveReturn = 1./upMoveReturn\n",
    "\n",
    "pL = PriceLattice(numPeriodsExpiration, startPrice, upMoveReturn, downMoveReturn)\n",
    "callL = OptionLattice(numPeriodsExpiration, upMoveReturn, downMoveReturn, strikePrice, riskFreeReturn, isCall, isAmerican, dividendYield, pL.lattice[:])\n",
    "\n",
    "isCall = False\n",
    "putL = OptionLattice(numPeriodsExpiration, upMoveReturn, downMoveReturn, strikePrice, riskFreeReturn, isCall, isAmerican, dividendYield, pL.lattice[:])\n",
    "\n",
    "numPeriodsChoose = 10\n",
    "\n",
    "chooserL = []\n",
    "rightLevel = []\n",
    "q = (riskFreeReturn - downMoveReturn - dividendYield) / (upMoveReturn - downMoveReturn)\n",
    "\n",
    "for i in reversed(range(numPeriodsChoose+1)):\n",
    "    newLevel = []\n",
    "    if i == numPeriodsChoose:\n",
    "        newLevel = [max(callL.lattice[i][j],putL.lattice[i][j]) for j in range(i+1)]\n",
    "    else:\n",
    "        for j in range(i+1):\n",
    "            price = (q*rightLevel[j+1] + (1-q)*rightLevel[j])/riskFreeReturn\n",
    "            newLevel.append(price)\n",
    "    rightLevel = newLevel\n",
    "    chooserL.insert(0, newLevel)\n",
    "\n",
    "print round(chooserL[0][0], 2)"
   ]
  }
 ],
 "metadata": {
  "kernelspec": {
   "display_name": "Python 2",
   "language": "python",
   "name": "python2"
  },
  "language_info": {
   "codemirror_mode": {
    "name": "ipython",
    "version": 2
   },
   "file_extension": ".py",
   "mimetype": "text/x-python",
   "name": "python",
   "nbconvert_exporter": "python",
   "pygments_lexer": "ipython2",
   "version": "2.7.11"
  }
 },
 "nbformat": 4,
 "nbformat_minor": 2
}

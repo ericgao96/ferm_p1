{
 "cells": [
  {
   "cell_type": "code",
   "execution_count": 1,
   "metadata": {},
   "outputs": [
    {
     "data": {
      "text/html": [
       "<style>.container { width:100% !important; }</style>"
      ],
      "text/plain": [
       "<IPython.core.display.HTML object>"
      ]
     },
     "metadata": {},
     "output_type": "display_data"
    }
   ],
   "source": [
    "from IPython.core.display import display, HTML\n",
    "display(HTML(\"<style>.container { width:100% !important; }</style>\"))"
   ]
  },
  {
   "cell_type": "code",
   "execution_count": 31,
   "metadata": {
    "collapsed": true
   },
   "outputs": [],
   "source": [
    "import math\n"
   ]
  },
  {
   "cell_type": "code",
   "execution_count": 32,
   "metadata": {
    "collapsed": true
   },
   "outputs": [],
   "source": [
    "class Lattice:\n",
    "    def printLattice(self):\n",
    "        for t, level in enumerate(self.lattice):\n",
    "            print 'level {0}'.format(t)\n",
    "            level = [ round(elem, 3) for elem in level ]\n",
    "            print ', '.join(map(str, level)) "
   ]
  },
  {
   "cell_type": "code",
   "execution_count": 33,
   "metadata": {
    "collapsed": true
   },
   "outputs": [],
   "source": [
    "class PriceLattice(Lattice):\n",
    "    def __init__(self, n, S0, u, d):\n",
    "        self.lattice = []\n",
    "        for i in range(n+1):\n",
    "            level = []\n",
    "            for j in range(i+1):\n",
    "                price = S0 * u**j * d**(i - j)\n",
    "                level.append(price)\n",
    "            self.lattice.append(level)"
   ]
  },
  {
   "cell_type": "code",
   "execution_count": 34,
   "metadata": {
    "collapsed": true
   },
   "outputs": [],
   "source": [
    "class OptionLattice(Lattice):\n",
    "    def __init__(self, n, S0, u, d, K, R, isCall, isAmerican, c, baseLattice):\n",
    "        q = (R-d-c)/(u-d)\n",
    "        multiplier = 1 if isCall else -1\n",
    "        print \"Calculating options on prices\"\n",
    "        self.lattice = []\n",
    "        clippedBase = baseLattice[:n+1]\n",
    "        rightLevel = []\n",
    "        for i, level in enumerate(reversed(clippedBase)):\n",
    "            newLevel = []\n",
    "            if i == 0:\n",
    "                for j in range(len(level)):\n",
    "                    newLevel.append(max(multiplier * (level[j]-K), 0))\n",
    "            else:\n",
    "                for j in range(len(level)):\n",
    "                    earlyExercise = max(multiplier * (level[j]-K), 0)\n",
    "                    hold = (q*rightLevel[j+1] + (1-q)*rightLevel[j])/R\n",
    "                    if earlyExercise > hold and isAmerican:\n",
    "                        print \"At time {0}, it's better to early exercise {1} than hold {2}\".format(len(clippedBase)-i-1, earlyExercise, hold)\n",
    "                    newPrice = max(hold, earlyExercise) if isAmerican else hold\n",
    "                    newLevel.append(newPrice)\n",
    "            rightLevel = newLevel\n",
    "            self.lattice.insert(0, newLevel)"
   ]
  },
  {
   "cell_type": "code",
   "execution_count": 35,
   "metadata": {
    "collapsed": true
   },
   "outputs": [],
   "source": [
    "class FutureLattice(PriceLattice):\n",
    "    def __init__(self, n, S0, u, d, c, R):\n",
    "        PriceLattice.__init__(self, n, S0, u, d)\n",
    "        q = (R-d-c)/(u-d)\n",
    "        for i, level in enumerate(reversed(self.lattice)):\n",
    "            if i != 0:\n",
    "                rightLevel = self.lattice[len(self.lattice)-i]\n",
    "                for j in range(len(level)):\n",
    "                    level[j] = q*rightLevel[j+1]+(1-q)*rightLevel[j]"
   ]
  },
  {
   "cell_type": "code",
   "execution_count": 36,
   "metadata": {
    "collapsed": true
   },
   "outputs": [],
   "source": [
    "# Validation\n",
    "numPeriods = 3\n",
    "startPrice = 100\n",
    "strikePrice = 100\n",
    "isCall = True\n",
    "isAmerican = False\n",
    "\n",
    "riskFreeReturn = 1.01\n",
    "dividendYield = 0\n",
    "upMoveReturn = 1.07\n",
    "downMoveReturn = 1./upMoveReturn"
   ]
  },
  {
   "cell_type": "code",
   "execution_count": 37,
   "metadata": {},
   "outputs": [
    {
     "name": "stdout",
     "output_type": "stream",
     "text": [
      "Calculating options on prices\n"
     ]
    }
   ],
   "source": [
    "pL = PriceLattice(numPeriods, startPrice, upMoveReturn, downMoveReturn)\n",
    "oL = OptionLattice(numPeriods, startPrice, upMoveReturn, downMoveReturn, strikePrice, riskFreeReturn, isCall, isAmerican, dividendYield, pL.lattice[:])"
   ]
  },
  {
   "cell_type": "code",
   "execution_count": 38,
   "metadata": {},
   "outputs": [
    {
     "name": "stdout",
     "output_type": "stream",
     "text": [
      "price lattice\n",
      "\n",
      "option lattice\n",
      "6.57438347874\n",
      "\n"
     ]
    }
   ],
   "source": [
    "print 'price lattice'\n",
    "print\n",
    "print 'option lattice'\n",
    "print oL.lattice[0][0]\n",
    "print\n",
    "# option should be 6.57"
   ]
  },
  {
   "cell_type": "code",
   "execution_count": 39,
   "metadata": {
    "collapsed": true
   },
   "outputs": [],
   "source": [
    "# 2nd Validation\n",
    "numPeriods = 3\n",
    "startPrice = 100\n",
    "strikePrice = 100\n",
    "isCall = False\n",
    "isAmerican = True\n",
    "\n",
    "riskFreeReturn = 1.01\n",
    "dividendYield = 0\n",
    "upMoveReturn = 1.07\n",
    "downMoveReturn = 1./upMoveReturn"
   ]
  },
  {
   "cell_type": "code",
   "execution_count": 40,
   "metadata": {},
   "outputs": [
    {
     "name": "stdout",
     "output_type": "stream",
     "text": [
      "Calculating options on prices\n",
      "At time 2, it's better to early exercise 12.6561271727 than hold 11.6660281628\n"
     ]
    }
   ],
   "source": [
    "pL = PriceLattice(numPeriods, startPrice, upMoveReturn, downMoveReturn)\n",
    "oL = OptionLattice(numPeriods, startPrice, upMoveReturn, downMoveReturn, strikePrice, riskFreeReturn, isCall, isAmerican, dividendYield, pL.lattice[:])"
   ]
  },
  {
   "cell_type": "code",
   "execution_count": 41,
   "metadata": {},
   "outputs": [
    {
     "name": "stdout",
     "output_type": "stream",
     "text": [
      "price lattice\n",
      "\n",
      "option lattice\n",
      "3.82393081447\n",
      "\n"
     ]
    }
   ],
   "source": [
    "print 'price lattice'\n",
    "print\n",
    "print 'option lattice'\n",
    "print oL.lattice[0][0]\n",
    "print\n",
    "# option should be 3.82"
   ]
  },
  {
   "cell_type": "code",
   "execution_count": 42,
   "metadata": {
    "collapsed": true
   },
   "outputs": [],
   "source": [
    "# Problem 1 -5\n",
    "numPeriods = 15\n",
    "years = 0.25\n",
    "startPrice = 100\n",
    "strikePrice = 110\n",
    "continuousInterestRate = .02\n",
    "volatility = .3\n",
    "isCall = True\n",
    "isAmerican = True\n",
    "\n",
    "riskFreeReturn = math.exp(continuousInterestRate*years/numPeriods)\n",
    "dividendYield = .01*years/numPeriods\n",
    "upMoveReturn = math.exp(volatility*math.sqrt(years/numPeriods))\n",
    "downMoveReturn = 1./upMoveReturn"
   ]
  },
  {
   "cell_type": "code",
   "execution_count": 43,
   "metadata": {
    "collapsed": true,
    "scrolled": true
   },
   "outputs": [],
   "source": [
    "pL = PriceLattice(numPeriods, startPrice, upMoveReturn, downMoveReturn)"
   ]
  },
  {
   "cell_type": "code",
   "execution_count": 44,
   "metadata": {},
   "outputs": [
    {
     "name": "stdout",
     "output_type": "stream",
     "text": [
      "Calculating options on prices\n"
     ]
    }
   ],
   "source": [
    "oL = OptionLattice(numPeriods, startPrice, upMoveReturn, downMoveReturn, strikePrice, riskFreeReturn, isCall, isAmerican, dividendYield, pL.lattice[:])"
   ]
  },
  {
   "cell_type": "code",
   "execution_count": 45,
   "metadata": {},
   "outputs": [
    {
     "name": "stdout",
     "output_type": "stream",
     "text": [
      "price lattice\n",
      "option lattice\n",
      "2.60409533543\n",
      "\n"
     ]
    }
   ],
   "source": [
    "print 'price lattice'\n",
    "print 'option lattice'\n",
    "print oL.lattice[0][0]\n",
    "print"
   ]
  },
  {
   "cell_type": "code",
   "execution_count": 46,
   "metadata": {
    "collapsed": true
   },
   "outputs": [],
   "source": [
    "isCall = False"
   ]
  },
  {
   "cell_type": "code",
   "execution_count": 47,
   "metadata": {},
   "outputs": [
    {
     "name": "stdout",
     "output_type": "stream",
     "text": [
      "Calculating options on prices\n",
      "At time 14, it's better to early exercise 51.8542658116 than hold 51.8272929813\n",
      "At time 14, it's better to early exercise 47.1712868691 than hold 47.1450942752\n",
      "At time 14, it's better to early exercise 42.111147124 than hold 42.0857976056\n",
      "At time 14, it's better to early exercise 36.6434705543 than hold 36.6190320116\n",
      "At time 14, it's better to early exercise 30.7354346944 than hold 30.7119804962\n",
      "At time 14, it's better to early exercise 24.3515736013 than hold 24.3291830254\n",
      "At time 14, it's better to early exercise 17.4535649532 than hold 17.4323236622\n",
      "At time 14, it's better to early exercise 10.0 than hold 9.9800005558\n",
      "At time 13, it's better to early exercise 49.558113422 than hold 49.5315231562\n",
      "At time 13, it's better to early exercise 44.6902054655 than hold 44.6644262473\n",
      "At time 13, it's better to early exercise 39.4302427733 than hold 39.4053399234\n",
      "At time 13, it's better to early exercise 33.7466497861 than hold 33.722693886\n",
      "At time 13, it's better to early exercise 27.6053078918 than hold 27.5823752076\n",
      "At time 13, it's better to early exercise 20.9693506114 than hold 20.9475235514\n",
      "At time 13, it's better to early exercise 13.7989422892 than hold 13.778309899\n",
      "At time 12, it's better to early exercise 47.1712868691 than hold 47.1450942752\n",
      "At time 12, it's better to early exercise 42.111147124 than hold 42.0857976056\n",
      "At time 12, it's better to early exercise 36.6434705543 than hold 36.6190320116\n",
      "At time 12, it's better to early exercise 30.7354346944 than hold 30.7119804962\n",
      "At time 12, it's better to early exercise 24.3515736013 than hold 24.3291830254\n",
      "At time 12, it's better to early exercise 17.4535649532 than hold 17.4323236622\n",
      "At time 11, it's better to early exercise 44.6902054655 than hold 44.6644262473\n",
      "At time 11, it's better to early exercise 39.4302427733 than hold 39.4053399234\n",
      "At time 11, it's better to early exercise 33.7466497861 than hold 33.722693886\n",
      "At time 11, it's better to early exercise 27.6053078918 than hold 27.5823752076\n",
      "At time 11, it's better to early exercise 20.9693506114 than hold 20.9475235514\n",
      "At time 10, it's better to early exercise 42.111147124 than hold 42.0857976056\n",
      "At time 10, it's better to early exercise 36.6434705543 than hold 36.6190320116\n",
      "At time 10, it's better to early exercise 30.7354346944 than hold 30.7119804962\n",
      "At time 10, it's better to early exercise 24.3515736013 than hold 24.3291830254\n",
      "At time 9, it's better to early exercise 39.4302427733 than hold 39.4053399234\n",
      "At time 9, it's better to early exercise 33.7466497861 than hold 33.722693886\n",
      "At time 9, it's better to early exercise 27.6053078918 than hold 27.5823752076\n",
      "At time 9, it's better to early exercise 20.9693506114 than hold 20.9610455787\n",
      "At time 8, it's better to early exercise 36.6434705543 than hold 36.6190320116\n",
      "At time 8, it's better to early exercise 30.7354346944 than hold 30.7119804962\n",
      "At time 8, it's better to early exercise 24.3515736013 than hold 24.3291830254\n",
      "At time 7, it's better to early exercise 33.7466497861 than hold 33.722693886\n",
      "At time 7, it's better to early exercise 27.6053078918 than hold 27.5823752076\n",
      "At time 6, it's better to early exercise 30.7354346944 than hold 30.7119804962\n",
      "At time 6, it's better to early exercise 24.3515736013 than hold 24.3480435651\n",
      "At time 5, it's better to early exercise 27.6053078918 than hold 27.5823752076\n"
     ]
    }
   ],
   "source": [
    "oL = OptionLattice(numPeriods, startPrice, upMoveReturn, downMoveReturn, strikePrice, riskFreeReturn, isCall, isAmerican, dividendYield, pL.lattice[:])"
   ]
  },
  {
   "cell_type": "code",
   "execution_count": 48,
   "metadata": {},
   "outputs": [
    {
     "name": "stdout",
     "output_type": "stream",
     "text": [
      "price lattice\n",
      "option lattice\n",
      "12.3597511934\n",
      "\n"
     ]
    }
   ],
   "source": [
    "print 'price lattice'\n",
    "print 'option lattice'\n",
    "print oL.lattice[0][0]\n",
    "print"
   ]
  },
  {
   "cell_type": "code",
   "execution_count": 49,
   "metadata": {
    "collapsed": true
   },
   "outputs": [],
   "source": [
    "# Problem 6 and 7\n",
    "numPeriods = 15\n",
    "years = 0.25\n",
    "startPrice = 100\n",
    "strikePrice = 110\n",
    "continuousInterestRate = .02\n",
    "volatility = .3\n",
    "isCall = True\n",
    "isAmerican = True\n",
    "\n",
    "riskFreeReturn = math.exp(continuousInterestRate*years/numPeriods)\n",
    "dividendYield = .01*years/numPeriods\n",
    "upMoveReturn = math.exp(volatility*math.sqrt(years/numPeriods))\n",
    "downMoveReturn = 1./upMoveReturn\n",
    "\n",
    "pL = PriceLattice(numPeriods, startPrice, upMoveReturn, downMoveReturn)\n",
    "fL = FutureLattice(numPeriods, startPrice, upMoveReturn, downMoveReturn, dividendYield, riskFreeReturn)"
   ]
  },
  {
   "cell_type": "code",
   "execution_count": 50,
   "metadata": {},
   "outputs": [
    {
     "name": "stdout",
     "output_type": "stream",
     "text": [
      "Calculating options on prices\n",
      "At time 9, it's better to early exercise 11.4884994161 than hold 11.4846705545\n",
      "At time 9, it's better to early exercise 21.2730191657 than hold 21.265929341\n",
      "At time 9, it's better to early exercise 31.8455709281 than hold 31.8349575068\n",
      "At time 8, it's better to early exercise 16.3070876151 than hold 16.3016528251\n",
      "At time 8, it's better to early exercise 26.4796899538 than hold 26.4708648614\n",
      "At time 7, it's better to early exercise 21.3167950752 than hold 21.3096906609\n"
     ]
    }
   ],
   "source": [
    "numPeriods = 10\n",
    "\n",
    "oL = OptionLattice(numPeriods, startPrice, upMoveReturn, downMoveReturn, strikePrice, riskFreeReturn, isCall, isAmerican, dividendYield, fL.lattice[:])"
   ]
  },
  {
   "cell_type": "code",
   "execution_count": 51,
   "metadata": {},
   "outputs": [
    {
     "name": "stdout",
     "output_type": "stream",
     "text": [
      "futures lattice\n",
      "option lattice\n",
      "1.66268661318\n",
      "\n"
     ]
    }
   ],
   "source": [
    "print 'futures lattice'\n",
    "print 'option lattice'\n",
    "print oL.lattice[0][0]\n",
    "print"
   ]
  },
  {
   "cell_type": "code",
   "execution_count": 55,
   "metadata": {},
   "outputs": [
    {
     "name": "stdout",
     "output_type": "stream",
     "text": [
      "price lattice\n",
      "\n",
      "Calculating options on prices\n",
      "option lattice\n",
      "level 0\n",
      "6.181\n",
      "level 1\n",
      "4.14, 8.289\n",
      "level 2\n",
      "2.567, 5.764, 10.896\n",
      "level 3\n",
      "1.438, 3.732, 7.863, 14.029\n",
      "level 4\n",
      "0.702, 2.198, 5.316, 10.492, 17.684\n",
      "level 5\n",
      "0.282, 1.136, 3.293, 7.404, 13.683, 21.82\n",
      "level 6\n",
      "0.083, 0.487, 1.807, 4.827, 10.065, 17.42, 26.369\n",
      "level 7\n",
      "0.014, 0.155, 0.829, 2.815, 6.904, 13.328, 21.649, 31.25\n",
      "level 8\n",
      "0.0, 0.028, 0.286, 1.39, 4.285, 9.608, 17.172, 26.279, 36.395\n",
      "level 9\n",
      "0.0, 0.0, 0.056, 0.523, 2.285, 6.35, 12.973, 21.51, 31.211, 41.762\n",
      "level 10\n",
      "0.0, 0.0, 0.0, 0.114, 0.945, 3.667, 9.119, 16.953, 26.221, 36.374, 47.343\n",
      "level 11\n",
      "0.0, 0.0, 0.0, 0.0, 0.232, 1.68, 5.717, 12.631, 21.419, 31.188, 41.743, 53.148\n",
      "level 12\n",
      "0.0, 0.0, 0.0, 0.0, 0.0, 0.471, 2.927, 8.596, 16.798, 26.197, 36.352, 47.326, 59.183\n",
      "level 13\n",
      "0.0, 0.0, 0.0, 0.0, 0.0, 0.0, 0.957, 4.959, 12.35, 21.393, 31.165, 41.723, 53.132, 65.46\n",
      "level 14\n",
      "0.0, 0.0, 0.0, 0.0, 0.0, 0.0, 0.0, 1.944, 8.069, 16.77, 26.172, 36.331, 47.308, 59.17, 71.986\n",
      "level 15\n",
      "0.0, 0.0, 0.0, 0.0, 0.0, 0.0, 0.0, 0.0, 3.949, 12.321, 21.367, 31.142, 41.704, 53.116, 65.448, 78.773\n",
      "\n",
      "Calculating options on prices\n",
      "option lattice\n",
      "level 0\n",
      "5.932\n",
      "level 1\n",
      "7.698, 4.116\n",
      "level 2\n",
      "9.788, 5.548, 2.643\n",
      "level 3\n",
      "12.186, 7.324, 3.722, 1.534\n",
      "level 4\n",
      "14.845, 9.455, 5.133, 2.27, 0.775\n",
      "level 5\n",
      "17.692, 11.921, 6.919, 3.295, 1.216, 0.322\n",
      "level 6\n",
      "20.638, 14.667, 9.099, 4.677, 1.873, 0.539, 0.098\n",
      "level 7\n",
      "23.596, 17.604, 11.651, 6.476, 2.827, 0.891, 0.178, 0.017\n",
      "level 8\n",
      "26.496, 20.622, 14.504, 8.718, 4.169, 1.447, 0.318, 0.033, 0.0\n",
      "level 9\n",
      "29.301, 23.623, 17.544, 11.382, 5.98, 2.305, 0.564, 0.065, 0.0, 0.0\n",
      "level 10\n",
      "32.001, 26.538, 20.635, 14.371, 8.309, 3.584, 0.988, 0.128, 0.0, 0.0, 0.0\n",
      "level 11\n",
      "34.6, 29.344, 23.664, 17.527, 11.127, 5.41, 1.704, 0.252, 0.0, 0.0, 0.0, 0.0\n",
      "level 12\n",
      "37.103, 32.045, 26.58, 20.675, 14.294, 7.871, 2.877, 0.496, 0.0, 0.0, 0.0, 0.0, 0.0\n",
      "level 13\n",
      "39.512, 34.645, 29.387, 23.705, 17.566, 10.932, 4.721, 0.978, 0.0, 0.0, 0.0, 0.0, 0.0, 0.0\n",
      "level 14\n",
      "41.831, 37.148, 32.089, 26.622, 20.715, 14.333, 7.436, 1.927, 0.0, 0.0, 0.0, 0.0, 0.0, 0.0, 0.0\n",
      "level 15\n",
      "44.063, 39.558, 34.69, 29.43, 23.747, 17.605, 10.969, 3.799, 0.0, 0.0, 0.0, 0.0, 0.0, 0.0, 0.0, 0.0\n",
      "\n",
      "26.5380324074 32.001155616\n",
      "20.63491663 26.5380324074\n",
      "14.3705704074 20.63491663\n",
      "8.30886291765 14.3705704074\n",
      "3.66678664536 8.30886291765\n",
      "9.11881670071 3.66678664536\n",
      "16.9533890425 9.11881670071\n",
      "26.2212432365 16.9533890425\n",
      "36.3735198561 26.2212432365\n",
      "47.3434471305 36.3735198561\n",
      "23.6230458455 29.3009595\n",
      "17.5440613641 23.6230458455\n",
      "11.381563266 17.5440613641\n",
      "5.97978508935 11.381563266\n",
      "6.34963419757 5.97978508935\n",
      "12.9727881688 6.34963419757\n",
      "21.510363335 12.9727881688\n",
      "31.2105356317 21.510363335\n",
      "41.7619634216 31.2105356317\n",
      "20.622449485 26.4959205756\n",
      "14.5043767011 20.622449485\n",
      "8.71843975753 14.5043767011\n",
      "4.28503754465 8.71843975753\n",
      "9.60813948432 4.28503754465\n",
      "17.171568025 9.60813948432\n",
      "26.2786518836 17.171568025\n",
      "36.3946699059 26.2786518836\n",
      "17.6036097328 23.5955423194\n",
      "11.6510885861 17.6036097328\n",
      "6.47559187685 11.6510885861\n",
      "6.90420690348 6.47559187685\n",
      "13.3284620274 6.90420690348\n",
      "21.6493213288 13.3284620274\n",
      "31.2500748041 21.6493213288\n",
      "14.6672782331 20.6378113353\n",
      "9.09927507879 14.6672782331\n",
      "4.82710861584 9.09927507879\n",
      "10.0646081763 4.82710861584\n",
      "17.4204327253 10.0646081763\n",
      "26.3686190378 17.4204327253\n",
      "11.9212260387 17.6916012016\n",
      "6.91932890681 11.9212260387\n",
      "7.40395471021 6.91932890681\n",
      "13.6825738025 7.40395471021\n",
      "21.8198767998 13.6825738025\n",
      "9.45478669378 14.8449120206\n",
      "5.31575383311 9.45478669378\n",
      "10.4924918691 5.31575383311\n",
      "17.6840605288 10.4924918691\n",
      "7.32393215714 12.1863710282\n",
      "7.86252378196 7.32393215714\n",
      "14.0294506559 7.86252378196\n",
      "5.76425450558 9.78849951889\n",
      "10.8959213095 5.76425450558\n",
      "8.28868612045 7.69772849187\n",
      "7.98609494977\n"
     ]
    }
   ],
   "source": [
    "# Problem 8, answer found w/o solution (10.81)\n",
    "numPeriodsExpiration = 15\n",
    "numPeriodsChoose = 10\n",
    "years = 0.25\n",
    "\n",
    "continuousInterestRate = .02\n",
    "volatility = .3\n",
    "isAmerican = False\n",
    "\n",
    "isCall = True\n",
    "startPrice = 100\n",
    "strikePrice = 100\n",
    "riskFreeReturn = math.exp(continuousInterestRate*years/numPeriodsExpiration)\n",
    "dividendYield = .01*years/numPeriodsExpiration\n",
    "upMoveReturn = math.exp(volatility*math.sqrt(years/numPeriodsExpiration))\n",
    "downMoveReturn = 1./upMoveReturn\n",
    "\n",
    "# q = (riskFreeReturn-downMoveReturn-dividendYield)/(upMoveReturn-downMoveReturn)\n",
    "# print q\n",
    "# print riskFreeReturn\n",
    "# print q/riskFreeReturn, (1-q)/riskFreeReturn\n",
    "# q = (math.exp((1.02-1.01)*years/numPeriodsExpiration) - downMoveReturn) / (upMoveReturn - downMoveReturn);\n",
    "# print q\n",
    "# print riskFreeReturn\n",
    "# print q/riskFreeReturn, (1-q)/riskFreeReturn\n",
    "\n",
    "\n",
    "pL = PriceLattice(numPeriodsExpiration, startPrice, upMoveReturn, downMoveReturn)\n",
    "print 'price lattice'\n",
    "print\n",
    "\n",
    "callL = OptionLattice(numPeriodsExpiration, startPrice, upMoveReturn, downMoveReturn, strikePrice, riskFreeReturn, isCall, isAmerican, dividendYield, pL.lattice[:])\n",
    "print 'option lattice'\n",
    "callL.printLattice()\n",
    "print\n",
    "\n",
    "isCall = False\n",
    "putL = OptionLattice(numPeriodsExpiration, startPrice, upMoveReturn, downMoveReturn, strikePrice, riskFreeReturn, isCall, isAmerican, dividendYield, pL.lattice[:])\n",
    "print 'option lattice'\n",
    "putL.printLattice()\n",
    "print\n",
    "\n",
    "mL = []\n",
    "for i in range(numPeriodsExpiration):\n",
    "    level = []\n",
    "    for j in range(len(callL.lattice[i])):\n",
    "        level.append(max(callL.lattice[i][j], putL.lattice[i][j]))\n",
    "    mL.append(level)\n",
    "\n",
    "clipML = mL[:numPeriodsChoose+1]\n",
    "\n",
    "rightLevel = []\n",
    "finalL = []\n",
    "q = (math.exp((1.02-1.01)*years/numPeriodsExpiration) - downMoveReturn) / (upMoveReturn - downMoveReturn)\n",
    "\n",
    "for i,level in enumerate(reversed(clipML)):\n",
    "    newLevel = []\n",
    "    if i == 0:\n",
    "        newLevel = level\n",
    "        rightLevel = level\n",
    "    else:\n",
    "        for j in range(len(level)):\n",
    "            print rightLevel[j+1], rightLevel[j]\n",
    "            newPrice = (q*rightLevel[j+1] + (1-q)*rightLevel[j])/riskFreeReturn\n",
    "            newLevel.append(newPrice)\n",
    "        rightLevel = level\n",
    "    finalL.insert(0, newLevel)\n",
    "\n",
    "print finalL[0][0]\n",
    "\n",
    "# chooserL = Lattice()\n",
    "# chooserL.lattice = finalL\n",
    "    \n",
    "# print 'chooser lattice'\n",
    "# chooserL.printLattice()\n",
    "# print"
   ]
  },
  {
   "cell_type": "code",
   "execution_count": null,
   "metadata": {
    "collapsed": true
   },
   "outputs": [],
   "source": []
  }
 ],
 "metadata": {
  "kernelspec": {
   "display_name": "Python 2",
   "language": "python",
   "name": "python2"
  },
  "language_info": {
   "codemirror_mode": {
    "name": "ipython",
    "version": 2
   },
   "file_extension": ".py",
   "mimetype": "text/x-python",
   "name": "python",
   "nbconvert_exporter": "python",
   "pygments_lexer": "ipython2",
   "version": "2.7.11"
  }
 },
 "nbformat": 4,
 "nbformat_minor": 2
}

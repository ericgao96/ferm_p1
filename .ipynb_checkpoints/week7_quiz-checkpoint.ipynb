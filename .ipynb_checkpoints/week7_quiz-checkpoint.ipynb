{
 "cells": [
  {
   "cell_type": "code",
   "execution_count": 1,
   "metadata": {
    "collapsed": true
   },
   "outputs": [],
   "source": [
    "class LevelPaymentMortgage():\n",
    "    def __init__(self, M0, yR, nY):\n",
    "        self.mR = yR/12.\n",
    "        self.nM = nY*12.\n",
    "        self.M0 = M0\n",
    "    \n",
    "    def monthlyPayment(self):\n",
    "        return self.M0*self.mR/(1.-(1.+self.mR)**(-self.nM))"
   ]
  },
  {
   "cell_type": "code",
   "execution_count": 2,
   "metadata": {
    "collapsed": true
   },
   "outputs": [],
   "source": [
    "class PassThroughMortgageBackedSecurity():\n",
    "    def __init__(self, pM0, sM, nY, cY, ptY, preMult):\n",
    "        cM = cY/12.\n",
    "        nM = nY*12.\n",
    "        ptM = ptY/12.\n",
    "        remainingM = pM0\n",
    "        poolAgeInMonths = sM+1\n",
    "        \n",
    "        self.monthlyPaymentList = []\n",
    "        self.monthlyInterestPaidByMortageHoldersList = []\n",
    "        self.monthlyInterestPaidToInvestorsList = []\n",
    "        self.monthlyPrincipalRepaymentList = []\n",
    "        self.annualPrepaymentRateList = []\n",
    "        self.monthlyPrepaymentList = []\n",
    "        self.monthlyPrincipalPaymentList = []\n",
    "        self.remainingMList = []\n",
    "        \n",
    "        while remainingM > .01:\n",
    "            monthlyPayment = remainingM*cM/(1.-(1.+cM)**(-(nM-poolAgeInMonths+1)))\n",
    "            monthlyInterestPaidByMortageHolders = cM*remainingM\n",
    "            monthlyInterestPaidToInvestors = ptM*remainingM\n",
    "            monthlyPrincipalRepayment = monthlyPayment-monthlyInterestPaidByMortageHolders\n",
    "            annualPrepaymentRate = .06*preMult if poolAgeInMonths > 30 else .06*poolAgeInMonths/30.*preMult\n",
    "            monthlyPrepayment = (remainingM-monthlyPrincipalRepayment)*(1.-(1.-annualPrepaymentRate)**(1./12.))\n",
    "            monthlyPrincipalPayment = monthlyPrincipalRepayment+monthlyPrepayment\n",
    "            remainingM -= monthlyPrincipalPayment\n",
    "            poolAgeInMonths +=1\n",
    "            self.monthlyPaymentList.append(monthlyPayment)\n",
    "            self.monthlyInterestPaidByMortageHoldersList.append(monthlyInterestPaidByMortageHolders)\n",
    "            self.monthlyInterestPaidToInvestorsList.append(monthlyInterestPaidToInvestors)\n",
    "            self.monthlyPrincipalRepaymentList.append(monthlyPrincipalRepayment)\n",
    "            self.annualPrepaymentRateList.append(annualPrepaymentRate)\n",
    "            self.monthlyPrepaymentList.append(monthlyPrepayment)\n",
    "            self.monthlyPrincipalPaymentList.append(monthlyPrincipalPayment)\n",
    "            self.remainingMList.append(remainingM)"
   ]
  },
  {
   "cell_type": "code",
   "execution_count": 3,
   "metadata": {
    "collapsed": true
   },
   "outputs": [],
   "source": [
    "# monthly mortgage coupon rates should be calculated by simply dividing the annual rate by 12.\n",
    "# assume that all of the securities pay monthly."
   ]
  },
  {
   "cell_type": "code",
   "execution_count": 4,
   "metadata": {},
   "outputs": [
    {
     "name": "stdout",
     "output_type": "stream",
     "text": [
      "2147.28649205\n"
     ]
    }
   ],
   "source": [
    "# Q1\n",
    "# Compute the monthly payment on a 30-year level payment mortgage assuming an annual mortgage rate of 5% and\n",
    "# an initial mortgage principal of $400,000.\n",
    "# \n",
    "# answer rounded to two decimal places\n",
    "\n",
    "annualInterestRate = .05\n",
    "principal = 400000.\n",
    "numYears = 30.\n",
    "\n",
    "lpm = LevelPaymentMortgage(principal, annualInterestRate, numYears)\n",
    "print lpm.monthlyPayment()"
   ]
  },
  {
   "cell_type": "code",
   "execution_count": 5,
   "metadata": {},
   "outputs": [
    {
     "name": "stdout",
     "output_type": "stream",
     "text": [
      "171.176267937\n"
     ]
    }
   ],
   "source": [
    "# Q2\n",
    "# consider a $400 million pass-through MBS that has just been created \n",
    "# (so the 'seasoning' of the pass-through is equal to 0). \n",
    "# The underlying pool of mortgages each has a maturity of 20 years and\n",
    "# an annual mortgage coupon rate of 6%. The pass-through rate of the mortgage pool is 5%\n",
    "\n",
    "# Assuming a prepayment multiplier of 100 PSA \n",
    "# what is the total amount of interest paid to the pass-through investors?\n",
    "\n",
    "# answer in millions rounded to two decimal places\n",
    "\n",
    "poolPrincipal = 400.\n",
    "seasoningInMonths = 0.\n",
    "loanTermYears = 20.\n",
    "annualCouponRate = .06\n",
    "passThroughRate = .05\n",
    "prepaymentMultiplier = 1.\n",
    "\n",
    "ptmbs = PassThroughMortgageBackedSecurity(poolPrincipal, seasoningInMonths, loanTermYears, annualCouponRate,\n",
    "                                          passThroughRate, prepaymentMultiplier)\n",
    "\n",
    "print sum(ptmbs.monthlyInterestPaidToInvestorsList)"
   ]
  },
  {
   "cell_type": "code",
   "execution_count": 6,
   "metadata": {},
   "outputs": [
    {
     "name": "stdout",
     "output_type": "stream",
     "text": [
      "181.090922912\n"
     ]
    }
   ],
   "source": [
    "# Q3\n",
    "# Referring to the same mortgage pass-through of the previous question, \n",
    "# what is the total amount of the prepayments?\n",
    "\n",
    "print sum(ptmbs.monthlyPrepaymentList)"
   ]
  },
  {
   "cell_type": "code",
   "execution_count": 7,
   "metadata": {},
   "outputs": [
    {
     "name": "stdout",
     "output_type": "stream",
     "text": [
      "268.150130833\n"
     ]
    }
   ],
   "source": [
    "# Q4\n",
    "# Referring to the same mortgage pass-through of the previous question,\n",
    "# what is the total amount of the prepayments\n",
    "# if the rate of prepayments increases to 200 PSA?\n",
    "\n",
    "prepaymentMultiplier = 2.\n",
    "ptmbs = PassThroughMortgageBackedSecurity(poolPrincipal, seasoningInMonths, loanTermYears, annualCouponRate,\n",
    "                                          passThroughRate, prepaymentMultiplier)\n",
    "print sum(ptmbs.monthlyPrepaymentList)"
   ]
  },
  {
   "cell_type": "code",
   "execution_count": 8,
   "metadata": {
    "collapsed": true
   },
   "outputs": [],
   "source": [
    "# divide annual interest rates by 12 to get the corresponding monthly rate and\n",
    "# assume monthly compounding when computing present values."
   ]
  },
  {
   "cell_type": "code",
   "execution_count": 9,
   "metadata": {},
   "outputs": [
    {
     "name": "stdout",
     "output_type": "stream",
     "text": [
      "280.095007645\n"
     ]
    }
   ],
   "source": [
    "# Q5\n",
    "# Suppose we construct principal-only (PO) and interest-only (IO) mortgage-backed securities (MBS)\n",
    "# using the mortgage pass-through of the previous questions. \n",
    "# Assume a prepayment multiplier of 100 PSA. \n",
    "# What is the present value of the PO MBS \n",
    "# if we use an annual risk-free rate of 4.5% to value the cash-flows?\n",
    "\n",
    "prepaymentMultiplier = 1.\n",
    "ptmbs = PassThroughMortgageBackedSecurity(poolPrincipal, seasoningInMonths, loanTermYears, annualCouponRate,\n",
    "                                          passThroughRate, prepaymentMultiplier)\n",
    "annualRiskFreeRate = .045\n",
    "presentValue = 0.\n",
    "k = 1\n",
    "for payment in ptmbs.monthlyPrincipalPaymentList:\n",
    "    presentValue += payment/(1.+annualRiskFreeRate/12.)**k\n",
    "    k+=1\n",
    "\n",
    "print presentValue"
   ]
  },
  {
   "cell_type": "code",
   "execution_count": 10,
   "metadata": {},
   "outputs": [
    {
     "name": "stdout",
     "output_type": "stream",
     "text": [
      "133.227769283\n"
     ]
    }
   ],
   "source": [
    "# Q6\n",
    "# Referring to the previous question, what is the value of the IO MBS?\n",
    "\n",
    "presentValue45 = 0.\n",
    "k = 1\n",
    "for payment in ptmbs.monthlyInterestPaidToInvestorsList:\n",
    "    presentValue45 += payment/(1.+annualRiskFreeRate/12.)**k\n",
    "    k+=1\n",
    "\n",
    "print presentValue45"
   ]
  },
  {
   "cell_type": "code",
   "execution_count": 11,
   "metadata": {},
   "outputs": [
    {
     "name": "stdout",
     "output_type": "stream",
     "text": [
      "6.00767198864\n"
     ]
    }
   ],
   "source": [
    "# Q7\n",
    "# Referring to the previous question, what is the average life of the IO MBS?\n",
    "\n",
    "averageLifeInYears = 0.\n",
    "k = 1\n",
    "interestPayments = ptmbs.monthlyInterestPaidToInvestorsList\n",
    "totalInterest = sum(interestPayments)\n",
    "for payment in interestPayments:\n",
    "    averageLifeInYears += k*payment/(12.*totalInterest)\n",
    "    k+=1\n",
    "    \n",
    "print averageLifeInYears"
   ]
  },
  {
   "cell_type": "code",
   "execution_count": 12,
   "metadata": {},
   "outputs": [
    {
     "name": "stdout",
     "output_type": "stream",
     "text": [
      "present value gained during change to decreased risk free rate\n",
      "7.17236189958\n"
     ]
    }
   ],
   "source": [
    "# Q8\n",
    "# Suppose now that you purchased the IO MBS of the previous question \n",
    "# and that the price you paid was the same price that you calculated in the previous question. \n",
    "# The risk-free interest rate suddenly changes from 4.5% to 3.5%.\n",
    "# Everything else stays the same. How much money have you made or lost on your investment?\n",
    "\n",
    "annualRiskFreeRate = .035\n",
    "presentValue35 = 0.\n",
    "k = 1\n",
    "for payment in ptmbs.monthlyInterestPaidToInvestorsList:\n",
    "    presentValue35 += payment/(1.+annualRiskFreeRate/12.)**k\n",
    "    k+=1\n",
    "\n",
    "print 'present value gained during change to decreased risk free rate'\n",
    "print presentValue35-presentValue45"
   ]
  },
  {
   "cell_type": "code",
   "execution_count": 13,
   "metadata": {},
   "outputs": [
    {
     "name": "stdout",
     "output_type": "stream",
     "text": [
      "present value gained during change to decreased risk free rate and increased PSA\n",
      "-9.57834806032\n"
     ]
    }
   ],
   "source": [
    "# Q9\n",
    "# Referring to the previous question, \n",
    "# suppose the risk-free interest rate suddenly changes from 4.5% to 3.5% and \n",
    "# that the pre-payment multiplier changes from 100 PSA to 150 PSA. \n",
    "# How much money have you made or lost on your investment in the IO MBS?\n",
    "\n",
    "prepaymentMultiplier = 1.5\n",
    "ptmbs = PassThroughMortgageBackedSecurity(poolPrincipal, seasoningInMonths, loanTermYears, annualCouponRate,\n",
    "                                          passThroughRate, prepaymentMultiplier)\n",
    "\n",
    "presentValue35_psaup = 0.\n",
    "k = 1\n",
    "for payment in ptmbs.monthlyInterestPaidToInvestorsList:\n",
    "    presentValue35_psaup += payment/(1.+annualRiskFreeRate/12.)**k\n",
    "    k+=1\n",
    "\n",
    "print 'present value gained during change to decreased risk free rate and increased PSA'\n",
    "print presentValue35_psaup-presentValue45"
   ]
  }
 ],
 "metadata": {
  "kernelspec": {
   "display_name": "Python 2",
   "language": "python",
   "name": "python2"
  },
  "language_info": {
   "codemirror_mode": {
    "name": "ipython",
    "version": 2
   },
   "file_extension": ".py",
   "mimetype": "text/x-python",
   "name": "python",
   "nbconvert_exporter": "python",
   "pygments_lexer": "ipython2",
   "version": "2.7.11"
  }
 },
 "nbformat": 4,
 "nbformat_minor": 2
}
